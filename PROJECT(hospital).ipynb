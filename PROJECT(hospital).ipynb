{
 "cells": [
  {
   "cell_type": "markdown",
   "metadata": {},
   "source": [
    "# importing Packages\n"
   ]
  },
  {
   "cell_type": "code",
   "execution_count": 2,
   "metadata": {},
   "outputs": [],
   "source": [
    "import numpy\n",
    "import pandas\n",
    "import sklearn\n",
    "import seaborn\n",
    "import matplotlib.pyplot as plt\n",
    "%matplotlib inline\n",
    "from sklearn.model_selection import train_test_split\n",
    "from sklearn.preprocessing import StandardScaler\n",
    "from sklearn import preprocessing\n",
    "from sklearn.linear_model import LogisticRegression\n",
    "from sklearn.metrics import classification_report,confusion_matrix,roc_auc_score,accuracy_score\n",
    "from sklearn import metrics\n",
    "from sklearn.naive_bayes import GaussianNB\n",
    "from sklearn.ensemble import RandomForestClassifier\n",
    "from sklearn import tree"
   ]
  },
  {
   "cell_type": "code",
   "execution_count": 3,
   "metadata": {},
   "outputs": [],
   "source": [
    "#Hide all the warnings in jupyter notebook\n",
    "import warnings\n",
    "warnings.filterwarnings('ignore')"
   ]
  },
  {
   "cell_type": "code",
   "execution_count": 4,
   "metadata": {},
   "outputs": [],
   "source": [
    "Hospital_data=pandas.read_csv('./desktop/Hospital.csv')"
   ]
  },
  {
   "cell_type": "code",
   "execution_count": 4,
   "metadata": {
    "scrolled": true
   },
   "outputs": [
    {
     "data": {
      "text/html": [
       "<div>\n",
       "<style scoped>\n",
       "    .dataframe tbody tr th:only-of-type {\n",
       "        vertical-align: middle;\n",
       "    }\n",
       "\n",
       "    .dataframe tbody tr th {\n",
       "        vertical-align: top;\n",
       "    }\n",
       "\n",
       "    .dataframe thead th {\n",
       "        text-align: right;\n",
       "    }\n",
       "</style>\n",
       "<table border=\"1\" class=\"dataframe\">\n",
       "  <thead>\n",
       "    <tr style=\"text-align: right;\">\n",
       "      <th></th>\n",
       "      <th>Date of joining</th>\n",
       "      <th>Pt Name</th>\n",
       "      <th>Room No</th>\n",
       "      <th>Doc Bill</th>\n",
       "      <th>Med Bill</th>\n",
       "      <th>Room Bill</th>\n",
       "      <th>Others Bill</th>\n",
       "    </tr>\n",
       "  </thead>\n",
       "  <tbody>\n",
       "    <tr>\n",
       "      <th>0</th>\n",
       "      <td>26/03/2012</td>\n",
       "      <td>RangaSwamy</td>\n",
       "      <td>1</td>\n",
       "      <td>2000</td>\n",
       "      <td>3000</td>\n",
       "      <td>2500</td>\n",
       "      <td>3000</td>\n",
       "    </tr>\n",
       "    <tr>\n",
       "      <th>1</th>\n",
       "      <td>26/03/2012</td>\n",
       "      <td>lakshmi</td>\n",
       "      <td>3</td>\n",
       "      <td>2000</td>\n",
       "      <td>2500</td>\n",
       "      <td>3500</td>\n",
       "      <td>2000</td>\n",
       "    </tr>\n",
       "    <tr>\n",
       "      <th>2</th>\n",
       "      <td>26/03/2012</td>\n",
       "      <td>sailaja</td>\n",
       "      <td>2</td>\n",
       "      <td>5000</td>\n",
       "      <td>1000</td>\n",
       "      <td>2000</td>\n",
       "      <td>500</td>\n",
       "    </tr>\n",
       "    <tr>\n",
       "      <th>3</th>\n",
       "      <td>26/03/2012</td>\n",
       "      <td>chamandi</td>\n",
       "      <td>4</td>\n",
       "      <td>7000</td>\n",
       "      <td>4000</td>\n",
       "      <td>3000</td>\n",
       "      <td>3000</td>\n",
       "    </tr>\n",
       "    <tr>\n",
       "      <th>4</th>\n",
       "      <td>26/03/2012</td>\n",
       "      <td>aruna</td>\n",
       "      <td>6</td>\n",
       "      <td>3000</td>\n",
       "      <td>1000</td>\n",
       "      <td>2000</td>\n",
       "      <td>3000</td>\n",
       "    </tr>\n",
       "    <tr>\n",
       "      <th>5</th>\n",
       "      <td>26/03/2012</td>\n",
       "      <td>swapna</td>\n",
       "      <td>5</td>\n",
       "      <td>3000</td>\n",
       "      <td>2000</td>\n",
       "      <td>5000</td>\n",
       "      <td>500</td>\n",
       "    </tr>\n",
       "    <tr>\n",
       "      <th>6</th>\n",
       "      <td>27/03/2012</td>\n",
       "      <td>RangaSwamy</td>\n",
       "      <td>1</td>\n",
       "      <td>1000</td>\n",
       "      <td>3000</td>\n",
       "      <td>2500</td>\n",
       "      <td>3000</td>\n",
       "    </tr>\n",
       "    <tr>\n",
       "      <th>7</th>\n",
       "      <td>27/03/2012</td>\n",
       "      <td>lakshmi</td>\n",
       "      <td>3</td>\n",
       "      <td>1000</td>\n",
       "      <td>2500</td>\n",
       "      <td>3500</td>\n",
       "      <td>2000</td>\n",
       "    </tr>\n",
       "    <tr>\n",
       "      <th>8</th>\n",
       "      <td>27/03/2012</td>\n",
       "      <td>sailaja</td>\n",
       "      <td>2</td>\n",
       "      <td>4000</td>\n",
       "      <td>1000</td>\n",
       "      <td>2000</td>\n",
       "      <td>500</td>\n",
       "    </tr>\n",
       "    <tr>\n",
       "      <th>9</th>\n",
       "      <td>27/03/2012</td>\n",
       "      <td>chamandi</td>\n",
       "      <td>4</td>\n",
       "      <td>6000</td>\n",
       "      <td>4000</td>\n",
       "      <td>3000</td>\n",
       "      <td>3000</td>\n",
       "    </tr>\n",
       "    <tr>\n",
       "      <th>10</th>\n",
       "      <td>27/03/2012</td>\n",
       "      <td>aruna</td>\n",
       "      <td>6</td>\n",
       "      <td>2000</td>\n",
       "      <td>1000</td>\n",
       "      <td>2000</td>\n",
       "      <td>3000</td>\n",
       "    </tr>\n",
       "    <tr>\n",
       "      <th>11</th>\n",
       "      <td>27/03/2012</td>\n",
       "      <td>swapna</td>\n",
       "      <td>5</td>\n",
       "      <td>2000</td>\n",
       "      <td>2050</td>\n",
       "      <td>1000</td>\n",
       "      <td>500</td>\n",
       "    </tr>\n",
       "    <tr>\n",
       "      <th>12</th>\n",
       "      <td>28/03/2012</td>\n",
       "      <td>RangaSwamy</td>\n",
       "      <td>1</td>\n",
       "      <td>2000</td>\n",
       "      <td>3000</td>\n",
       "      <td>2500</td>\n",
       "      <td>3000</td>\n",
       "    </tr>\n",
       "    <tr>\n",
       "      <th>13</th>\n",
       "      <td>28/03/2012</td>\n",
       "      <td>lakshmi</td>\n",
       "      <td>3</td>\n",
       "      <td>2000</td>\n",
       "      <td>2500</td>\n",
       "      <td>3500</td>\n",
       "      <td>2000</td>\n",
       "    </tr>\n",
       "    <tr>\n",
       "      <th>14</th>\n",
       "      <td>28/03/2012</td>\n",
       "      <td>sailaja</td>\n",
       "      <td>2</td>\n",
       "      <td>5000</td>\n",
       "      <td>1000</td>\n",
       "      <td>2000</td>\n",
       "      <td>500</td>\n",
       "    </tr>\n",
       "    <tr>\n",
       "      <th>15</th>\n",
       "      <td>28/03/2012</td>\n",
       "      <td>chamandi</td>\n",
       "      <td>4</td>\n",
       "      <td>7000</td>\n",
       "      <td>4000</td>\n",
       "      <td>3000</td>\n",
       "      <td>3000</td>\n",
       "    </tr>\n",
       "    <tr>\n",
       "      <th>16</th>\n",
       "      <td>28/03/2012</td>\n",
       "      <td>aruna</td>\n",
       "      <td>6</td>\n",
       "      <td>3000</td>\n",
       "      <td>1000</td>\n",
       "      <td>2000</td>\n",
       "      <td>3000</td>\n",
       "    </tr>\n",
       "    <tr>\n",
       "      <th>17</th>\n",
       "      <td>28/03/2012</td>\n",
       "      <td>swapna</td>\n",
       "      <td>5</td>\n",
       "      <td>3000</td>\n",
       "      <td>2000</td>\n",
       "      <td>5000</td>\n",
       "      <td>500</td>\n",
       "    </tr>\n",
       "    <tr>\n",
       "      <th>18</th>\n",
       "      <td>29/03/2012</td>\n",
       "      <td>RangaSwamy</td>\n",
       "      <td>1</td>\n",
       "      <td>1000</td>\n",
       "      <td>3000</td>\n",
       "      <td>2500</td>\n",
       "      <td>3000</td>\n",
       "    </tr>\n",
       "    <tr>\n",
       "      <th>19</th>\n",
       "      <td>29/03/2012</td>\n",
       "      <td>lakshmi</td>\n",
       "      <td>3</td>\n",
       "      <td>1000</td>\n",
       "      <td>2500</td>\n",
       "      <td>3500</td>\n",
       "      <td>2000</td>\n",
       "    </tr>\n",
       "    <tr>\n",
       "      <th>20</th>\n",
       "      <td>29/03/2012</td>\n",
       "      <td>sailaja</td>\n",
       "      <td>2</td>\n",
       "      <td>4000</td>\n",
       "      <td>1000</td>\n",
       "      <td>2000</td>\n",
       "      <td>500</td>\n",
       "    </tr>\n",
       "    <tr>\n",
       "      <th>21</th>\n",
       "      <td>29/03/2012</td>\n",
       "      <td>chamandi</td>\n",
       "      <td>4</td>\n",
       "      <td>6000</td>\n",
       "      <td>4000</td>\n",
       "      <td>3000</td>\n",
       "      <td>3000</td>\n",
       "    </tr>\n",
       "    <tr>\n",
       "      <th>22</th>\n",
       "      <td>29/03/2012</td>\n",
       "      <td>aruna</td>\n",
       "      <td>6</td>\n",
       "      <td>2000</td>\n",
       "      <td>1000</td>\n",
       "      <td>2000</td>\n",
       "      <td>3000</td>\n",
       "    </tr>\n",
       "    <tr>\n",
       "      <th>23</th>\n",
       "      <td>29/03/2012</td>\n",
       "      <td>swapna</td>\n",
       "      <td>5</td>\n",
       "      <td>2000</td>\n",
       "      <td>2050</td>\n",
       "      <td>1000</td>\n",
       "      <td>500</td>\n",
       "    </tr>\n",
       "    <tr>\n",
       "      <th>24</th>\n",
       "      <td>30/03/2012</td>\n",
       "      <td>RangaSwamy</td>\n",
       "      <td>1</td>\n",
       "      <td>2000</td>\n",
       "      <td>3000</td>\n",
       "      <td>2500</td>\n",
       "      <td>3000</td>\n",
       "    </tr>\n",
       "    <tr>\n",
       "      <th>25</th>\n",
       "      <td>30/03/2012</td>\n",
       "      <td>lakshmi</td>\n",
       "      <td>3</td>\n",
       "      <td>2000</td>\n",
       "      <td>2500</td>\n",
       "      <td>3500</td>\n",
       "      <td>2000</td>\n",
       "    </tr>\n",
       "    <tr>\n",
       "      <th>26</th>\n",
       "      <td>30/03/2012</td>\n",
       "      <td>sailaja</td>\n",
       "      <td>2</td>\n",
       "      <td>5000</td>\n",
       "      <td>1000</td>\n",
       "      <td>2000</td>\n",
       "      <td>500</td>\n",
       "    </tr>\n",
       "    <tr>\n",
       "      <th>27</th>\n",
       "      <td>30/03/2012</td>\n",
       "      <td>chamandi</td>\n",
       "      <td>4</td>\n",
       "      <td>7000</td>\n",
       "      <td>4000</td>\n",
       "      <td>3000</td>\n",
       "      <td>3000</td>\n",
       "    </tr>\n",
       "    <tr>\n",
       "      <th>28</th>\n",
       "      <td>30/03/2012</td>\n",
       "      <td>aruna</td>\n",
       "      <td>6</td>\n",
       "      <td>3000</td>\n",
       "      <td>1000</td>\n",
       "      <td>2000</td>\n",
       "      <td>3000</td>\n",
       "    </tr>\n",
       "    <tr>\n",
       "      <th>29</th>\n",
       "      <td>30/03/2012</td>\n",
       "      <td>swapna</td>\n",
       "      <td>5</td>\n",
       "      <td>3000</td>\n",
       "      <td>2000</td>\n",
       "      <td>5000</td>\n",
       "      <td>500</td>\n",
       "    </tr>\n",
       "  </tbody>\n",
       "</table>\n",
       "</div>"
      ],
      "text/plain": [
       "   Date of joining     Pt Name  Room No  Doc Bill  Med Bill  Room Bill  \\\n",
       "0       26/03/2012  RangaSwamy        1      2000      3000       2500   \n",
       "1       26/03/2012     lakshmi        3      2000      2500       3500   \n",
       "2       26/03/2012     sailaja        2      5000      1000       2000   \n",
       "3       26/03/2012    chamandi        4      7000      4000       3000   \n",
       "4       26/03/2012       aruna        6      3000      1000       2000   \n",
       "5       26/03/2012      swapna        5      3000      2000       5000   \n",
       "6       27/03/2012  RangaSwamy        1      1000      3000       2500   \n",
       "7       27/03/2012     lakshmi        3      1000      2500       3500   \n",
       "8       27/03/2012     sailaja        2      4000      1000       2000   \n",
       "9       27/03/2012    chamandi        4      6000      4000       3000   \n",
       "10      27/03/2012       aruna        6      2000      1000       2000   \n",
       "11      27/03/2012      swapna        5      2000      2050       1000   \n",
       "12      28/03/2012  RangaSwamy        1      2000      3000       2500   \n",
       "13      28/03/2012     lakshmi        3      2000      2500       3500   \n",
       "14      28/03/2012     sailaja        2      5000      1000       2000   \n",
       "15      28/03/2012    chamandi        4      7000      4000       3000   \n",
       "16      28/03/2012       aruna        6      3000      1000       2000   \n",
       "17      28/03/2012      swapna        5      3000      2000       5000   \n",
       "18      29/03/2012  RangaSwamy        1      1000      3000       2500   \n",
       "19      29/03/2012     lakshmi        3      1000      2500       3500   \n",
       "20      29/03/2012     sailaja        2      4000      1000       2000   \n",
       "21      29/03/2012    chamandi        4      6000      4000       3000   \n",
       "22      29/03/2012       aruna        6      2000      1000       2000   \n",
       "23      29/03/2012      swapna        5      2000      2050       1000   \n",
       "24      30/03/2012  RangaSwamy        1      2000      3000       2500   \n",
       "25      30/03/2012     lakshmi        3      2000      2500       3500   \n",
       "26      30/03/2012     sailaja        2      5000      1000       2000   \n",
       "27      30/03/2012    chamandi        4      7000      4000       3000   \n",
       "28      30/03/2012       aruna        6      3000      1000       2000   \n",
       "29      30/03/2012      swapna        5      3000      2000       5000   \n",
       "\n",
       "    Others Bill  \n",
       "0          3000  \n",
       "1          2000  \n",
       "2           500  \n",
       "3          3000  \n",
       "4          3000  \n",
       "5           500  \n",
       "6          3000  \n",
       "7          2000  \n",
       "8           500  \n",
       "9          3000  \n",
       "10         3000  \n",
       "11          500  \n",
       "12         3000  \n",
       "13         2000  \n",
       "14          500  \n",
       "15         3000  \n",
       "16         3000  \n",
       "17          500  \n",
       "18         3000  \n",
       "19         2000  \n",
       "20          500  \n",
       "21         3000  \n",
       "22         3000  \n",
       "23          500  \n",
       "24         3000  \n",
       "25         2000  \n",
       "26          500  \n",
       "27         3000  \n",
       "28         3000  \n",
       "29          500  "
      ]
     },
     "execution_count": 4,
     "metadata": {},
     "output_type": "execute_result"
    }
   ],
   "source": [
    "Hospital_data"
   ]
  },
  {
   "cell_type": "code",
   "execution_count": 5,
   "metadata": {},
   "outputs": [],
   "source": [
    "Hospital_data_X=Hospital_data[['Pt Name','Room No','Date of joining','Med Bill','Room Bill']]\n",
    "Hospital_data_Y=Hospital_data[['Doc Bill']]"
   ]
  },
  {
   "cell_type": "code",
   "execution_count": 6,
   "metadata": {},
   "outputs": [],
   "source": [
    "X_train,X_test,Y_train,Y_test=train_test_split(Hospital_data_X,Hospital_data_Y,test_size=0.20)"
   ]
  },
  {
   "cell_type": "code",
   "execution_count": 7,
   "metadata": {},
   "outputs": [
    {
     "data": {
      "text/html": [
       "<div>\n",
       "<style scoped>\n",
       "    .dataframe tbody tr th:only-of-type {\n",
       "        vertical-align: middle;\n",
       "    }\n",
       "\n",
       "    .dataframe tbody tr th {\n",
       "        vertical-align: top;\n",
       "    }\n",
       "\n",
       "    .dataframe thead th {\n",
       "        text-align: right;\n",
       "    }\n",
       "</style>\n",
       "<table border=\"1\" class=\"dataframe\">\n",
       "  <thead>\n",
       "    <tr style=\"text-align: right;\">\n",
       "      <th></th>\n",
       "      <th>Pt Name</th>\n",
       "      <th>Room No</th>\n",
       "      <th>Date of joining</th>\n",
       "      <th>Med Bill</th>\n",
       "      <th>Room Bill</th>\n",
       "    </tr>\n",
       "  </thead>\n",
       "  <tbody>\n",
       "    <tr>\n",
       "      <th>12</th>\n",
       "      <td>RangaSwamy</td>\n",
       "      <td>1</td>\n",
       "      <td>28/03/2012</td>\n",
       "      <td>3000</td>\n",
       "      <td>2500</td>\n",
       "    </tr>\n",
       "    <tr>\n",
       "      <th>4</th>\n",
       "      <td>aruna</td>\n",
       "      <td>6</td>\n",
       "      <td>26/03/2012</td>\n",
       "      <td>1000</td>\n",
       "      <td>2000</td>\n",
       "    </tr>\n",
       "    <tr>\n",
       "      <th>28</th>\n",
       "      <td>aruna</td>\n",
       "      <td>6</td>\n",
       "      <td>30/03/2012</td>\n",
       "      <td>1000</td>\n",
       "      <td>2000</td>\n",
       "    </tr>\n",
       "    <tr>\n",
       "      <th>5</th>\n",
       "      <td>swapna</td>\n",
       "      <td>5</td>\n",
       "      <td>26/03/2012</td>\n",
       "      <td>2000</td>\n",
       "      <td>5000</td>\n",
       "    </tr>\n",
       "    <tr>\n",
       "      <th>14</th>\n",
       "      <td>sailaja</td>\n",
       "      <td>2</td>\n",
       "      <td>28/03/2012</td>\n",
       "      <td>1000</td>\n",
       "      <td>2000</td>\n",
       "    </tr>\n",
       "    <tr>\n",
       "      <th>7</th>\n",
       "      <td>lakshmi</td>\n",
       "      <td>3</td>\n",
       "      <td>27/03/2012</td>\n",
       "      <td>2500</td>\n",
       "      <td>3500</td>\n",
       "    </tr>\n",
       "    <tr>\n",
       "      <th>20</th>\n",
       "      <td>sailaja</td>\n",
       "      <td>2</td>\n",
       "      <td>29/03/2012</td>\n",
       "      <td>1000</td>\n",
       "      <td>2000</td>\n",
       "    </tr>\n",
       "    <tr>\n",
       "      <th>1</th>\n",
       "      <td>lakshmi</td>\n",
       "      <td>3</td>\n",
       "      <td>26/03/2012</td>\n",
       "      <td>2500</td>\n",
       "      <td>3500</td>\n",
       "    </tr>\n",
       "    <tr>\n",
       "      <th>19</th>\n",
       "      <td>lakshmi</td>\n",
       "      <td>3</td>\n",
       "      <td>29/03/2012</td>\n",
       "      <td>2500</td>\n",
       "      <td>3500</td>\n",
       "    </tr>\n",
       "    <tr>\n",
       "      <th>21</th>\n",
       "      <td>chamandi</td>\n",
       "      <td>4</td>\n",
       "      <td>29/03/2012</td>\n",
       "      <td>4000</td>\n",
       "      <td>3000</td>\n",
       "    </tr>\n",
       "    <tr>\n",
       "      <th>23</th>\n",
       "      <td>swapna</td>\n",
       "      <td>5</td>\n",
       "      <td>29/03/2012</td>\n",
       "      <td>2050</td>\n",
       "      <td>1000</td>\n",
       "    </tr>\n",
       "    <tr>\n",
       "      <th>18</th>\n",
       "      <td>RangaSwamy</td>\n",
       "      <td>1</td>\n",
       "      <td>29/03/2012</td>\n",
       "      <td>3000</td>\n",
       "      <td>2500</td>\n",
       "    </tr>\n",
       "    <tr>\n",
       "      <th>8</th>\n",
       "      <td>sailaja</td>\n",
       "      <td>2</td>\n",
       "      <td>27/03/2012</td>\n",
       "      <td>1000</td>\n",
       "      <td>2000</td>\n",
       "    </tr>\n",
       "    <tr>\n",
       "      <th>22</th>\n",
       "      <td>aruna</td>\n",
       "      <td>6</td>\n",
       "      <td>29/03/2012</td>\n",
       "      <td>1000</td>\n",
       "      <td>2000</td>\n",
       "    </tr>\n",
       "    <tr>\n",
       "      <th>16</th>\n",
       "      <td>aruna</td>\n",
       "      <td>6</td>\n",
       "      <td>28/03/2012</td>\n",
       "      <td>1000</td>\n",
       "      <td>2000</td>\n",
       "    </tr>\n",
       "    <tr>\n",
       "      <th>10</th>\n",
       "      <td>aruna</td>\n",
       "      <td>6</td>\n",
       "      <td>27/03/2012</td>\n",
       "      <td>1000</td>\n",
       "      <td>2000</td>\n",
       "    </tr>\n",
       "    <tr>\n",
       "      <th>13</th>\n",
       "      <td>lakshmi</td>\n",
       "      <td>3</td>\n",
       "      <td>28/03/2012</td>\n",
       "      <td>2500</td>\n",
       "      <td>3500</td>\n",
       "    </tr>\n",
       "    <tr>\n",
       "      <th>15</th>\n",
       "      <td>chamandi</td>\n",
       "      <td>4</td>\n",
       "      <td>28/03/2012</td>\n",
       "      <td>4000</td>\n",
       "      <td>3000</td>\n",
       "    </tr>\n",
       "    <tr>\n",
       "      <th>11</th>\n",
       "      <td>swapna</td>\n",
       "      <td>5</td>\n",
       "      <td>27/03/2012</td>\n",
       "      <td>2050</td>\n",
       "      <td>1000</td>\n",
       "    </tr>\n",
       "    <tr>\n",
       "      <th>26</th>\n",
       "      <td>sailaja</td>\n",
       "      <td>2</td>\n",
       "      <td>30/03/2012</td>\n",
       "      <td>1000</td>\n",
       "      <td>2000</td>\n",
       "    </tr>\n",
       "    <tr>\n",
       "      <th>0</th>\n",
       "      <td>RangaSwamy</td>\n",
       "      <td>1</td>\n",
       "      <td>26/03/2012</td>\n",
       "      <td>3000</td>\n",
       "      <td>2500</td>\n",
       "    </tr>\n",
       "    <tr>\n",
       "      <th>24</th>\n",
       "      <td>RangaSwamy</td>\n",
       "      <td>1</td>\n",
       "      <td>30/03/2012</td>\n",
       "      <td>3000</td>\n",
       "      <td>2500</td>\n",
       "    </tr>\n",
       "    <tr>\n",
       "      <th>25</th>\n",
       "      <td>lakshmi</td>\n",
       "      <td>3</td>\n",
       "      <td>30/03/2012</td>\n",
       "      <td>2500</td>\n",
       "      <td>3500</td>\n",
       "    </tr>\n",
       "    <tr>\n",
       "      <th>2</th>\n",
       "      <td>sailaja</td>\n",
       "      <td>2</td>\n",
       "      <td>26/03/2012</td>\n",
       "      <td>1000</td>\n",
       "      <td>2000</td>\n",
       "    </tr>\n",
       "  </tbody>\n",
       "</table>\n",
       "</div>"
      ],
      "text/plain": [
       "       Pt Name  Room No Date of joining  Med Bill  Room Bill\n",
       "12  RangaSwamy        1      28/03/2012      3000       2500\n",
       "4        aruna        6      26/03/2012      1000       2000\n",
       "28       aruna        6      30/03/2012      1000       2000\n",
       "5       swapna        5      26/03/2012      2000       5000\n",
       "14     sailaja        2      28/03/2012      1000       2000\n",
       "7      lakshmi        3      27/03/2012      2500       3500\n",
       "20     sailaja        2      29/03/2012      1000       2000\n",
       "1      lakshmi        3      26/03/2012      2500       3500\n",
       "19     lakshmi        3      29/03/2012      2500       3500\n",
       "21    chamandi        4      29/03/2012      4000       3000\n",
       "23      swapna        5      29/03/2012      2050       1000\n",
       "18  RangaSwamy        1      29/03/2012      3000       2500\n",
       "8      sailaja        2      27/03/2012      1000       2000\n",
       "22       aruna        6      29/03/2012      1000       2000\n",
       "16       aruna        6      28/03/2012      1000       2000\n",
       "10       aruna        6      27/03/2012      1000       2000\n",
       "13     lakshmi        3      28/03/2012      2500       3500\n",
       "15    chamandi        4      28/03/2012      4000       3000\n",
       "11      swapna        5      27/03/2012      2050       1000\n",
       "26     sailaja        2      30/03/2012      1000       2000\n",
       "0   RangaSwamy        1      26/03/2012      3000       2500\n",
       "24  RangaSwamy        1      30/03/2012      3000       2500\n",
       "25     lakshmi        3      30/03/2012      2500       3500\n",
       "2      sailaja        2      26/03/2012      1000       2000"
      ]
     },
     "execution_count": 7,
     "metadata": {},
     "output_type": "execute_result"
    }
   ],
   "source": [
    "X_train"
   ]
  },
  {
   "cell_type": "code",
   "execution_count": 8,
   "metadata": {},
   "outputs": [
    {
     "data": {
      "text/html": [
       "<div>\n",
       "<style scoped>\n",
       "    .dataframe tbody tr th:only-of-type {\n",
       "        vertical-align: middle;\n",
       "    }\n",
       "\n",
       "    .dataframe tbody tr th {\n",
       "        vertical-align: top;\n",
       "    }\n",
       "\n",
       "    .dataframe thead th {\n",
       "        text-align: right;\n",
       "    }\n",
       "</style>\n",
       "<table border=\"1\" class=\"dataframe\">\n",
       "  <thead>\n",
       "    <tr style=\"text-align: right;\">\n",
       "      <th></th>\n",
       "      <th>Pt Name</th>\n",
       "      <th>Room No</th>\n",
       "      <th>Date of joining</th>\n",
       "      <th>Med Bill</th>\n",
       "      <th>Room Bill</th>\n",
       "    </tr>\n",
       "  </thead>\n",
       "  <tbody>\n",
       "    <tr>\n",
       "      <th>17</th>\n",
       "      <td>swapna</td>\n",
       "      <td>5</td>\n",
       "      <td>28/03/2012</td>\n",
       "      <td>2000</td>\n",
       "      <td>5000</td>\n",
       "    </tr>\n",
       "    <tr>\n",
       "      <th>3</th>\n",
       "      <td>chamandi</td>\n",
       "      <td>4</td>\n",
       "      <td>26/03/2012</td>\n",
       "      <td>4000</td>\n",
       "      <td>3000</td>\n",
       "    </tr>\n",
       "    <tr>\n",
       "      <th>27</th>\n",
       "      <td>chamandi</td>\n",
       "      <td>4</td>\n",
       "      <td>30/03/2012</td>\n",
       "      <td>4000</td>\n",
       "      <td>3000</td>\n",
       "    </tr>\n",
       "    <tr>\n",
       "      <th>6</th>\n",
       "      <td>RangaSwamy</td>\n",
       "      <td>1</td>\n",
       "      <td>27/03/2012</td>\n",
       "      <td>3000</td>\n",
       "      <td>2500</td>\n",
       "    </tr>\n",
       "    <tr>\n",
       "      <th>9</th>\n",
       "      <td>chamandi</td>\n",
       "      <td>4</td>\n",
       "      <td>27/03/2012</td>\n",
       "      <td>4000</td>\n",
       "      <td>3000</td>\n",
       "    </tr>\n",
       "    <tr>\n",
       "      <th>29</th>\n",
       "      <td>swapna</td>\n",
       "      <td>5</td>\n",
       "      <td>30/03/2012</td>\n",
       "      <td>2000</td>\n",
       "      <td>5000</td>\n",
       "    </tr>\n",
       "  </tbody>\n",
       "</table>\n",
       "</div>"
      ],
      "text/plain": [
       "       Pt Name  Room No Date of joining  Med Bill  Room Bill\n",
       "17      swapna        5      28/03/2012      2000       5000\n",
       "3     chamandi        4      26/03/2012      4000       3000\n",
       "27    chamandi        4      30/03/2012      4000       3000\n",
       "6   RangaSwamy        1      27/03/2012      3000       2500\n",
       "9     chamandi        4      27/03/2012      4000       3000\n",
       "29      swapna        5      30/03/2012      2000       5000"
      ]
     },
     "execution_count": 8,
     "metadata": {},
     "output_type": "execute_result"
    }
   ],
   "source": [
    "X_test"
   ]
  },
  {
   "cell_type": "code",
   "execution_count": 9,
   "metadata": {},
   "outputs": [
    {
     "data": {
      "text/plain": [
       "LabelEncoder()"
      ]
     },
     "execution_count": 9,
     "metadata": {},
     "output_type": "execute_result"
    }
   ],
   "source": [
    "Name_encoder=preprocessing.LabelEncoder()\n",
    "Name_encoder.fit(pandas.DataFrame(X_train['Pt Name']))"
   ]
  },
  {
   "cell_type": "code",
   "execution_count": 10,
   "metadata": {},
   "outputs": [],
   "source": [
    "X_train[['Pt Name']]=Name_encoder.transform(X_train[['Pt Name']])"
   ]
  },
  {
   "cell_type": "code",
   "execution_count": 11,
   "metadata": {},
   "outputs": [
    {
     "data": {
      "text/plain": [
       "StandardScaler(copy=True, with_mean=True, with_std=True)"
      ]
     },
     "execution_count": 11,
     "metadata": {},
     "output_type": "execute_result"
    }
   ],
   "source": [
    "Name_scaler=StandardScaler()\n",
    "Name_scaler.fit(pandas.DataFrame(X_train['Pt Name']))"
   ]
  },
  {
   "cell_type": "code",
   "execution_count": 12,
   "metadata": {},
   "outputs": [],
   "source": [
    "X_train[['Pt Name']]=Name_scaler.transform(X_train[['Pt Name']])"
   ]
  },
  {
   "cell_type": "code",
   "execution_count": 13,
   "metadata": {},
   "outputs": [
    {
     "data": {
      "text/html": [
       "<div>\n",
       "<style scoped>\n",
       "    .dataframe tbody tr th:only-of-type {\n",
       "        vertical-align: middle;\n",
       "    }\n",
       "\n",
       "    .dataframe tbody tr th {\n",
       "        vertical-align: top;\n",
       "    }\n",
       "\n",
       "    .dataframe thead th {\n",
       "        text-align: right;\n",
       "    }\n",
       "</style>\n",
       "<table border=\"1\" class=\"dataframe\">\n",
       "  <thead>\n",
       "    <tr style=\"text-align: right;\">\n",
       "      <th></th>\n",
       "      <th>Pt Name</th>\n",
       "      <th>Room No</th>\n",
       "      <th>Date of joining</th>\n",
       "      <th>Med Bill</th>\n",
       "      <th>Room Bill</th>\n",
       "    </tr>\n",
       "  </thead>\n",
       "  <tbody>\n",
       "    <tr>\n",
       "      <th>12</th>\n",
       "      <td>-1.460915</td>\n",
       "      <td>1</td>\n",
       "      <td>28/03/2012</td>\n",
       "      <td>3000</td>\n",
       "      <td>2500</td>\n",
       "    </tr>\n",
       "    <tr>\n",
       "      <th>4</th>\n",
       "      <td>-0.866645</td>\n",
       "      <td>6</td>\n",
       "      <td>26/03/2012</td>\n",
       "      <td>1000</td>\n",
       "      <td>2000</td>\n",
       "    </tr>\n",
       "    <tr>\n",
       "      <th>28</th>\n",
       "      <td>-0.866645</td>\n",
       "      <td>6</td>\n",
       "      <td>30/03/2012</td>\n",
       "      <td>1000</td>\n",
       "      <td>2000</td>\n",
       "    </tr>\n",
       "    <tr>\n",
       "      <th>5</th>\n",
       "      <td>1.510438</td>\n",
       "      <td>5</td>\n",
       "      <td>26/03/2012</td>\n",
       "      <td>2000</td>\n",
       "      <td>5000</td>\n",
       "    </tr>\n",
       "    <tr>\n",
       "      <th>14</th>\n",
       "      <td>0.916167</td>\n",
       "      <td>2</td>\n",
       "      <td>28/03/2012</td>\n",
       "      <td>1000</td>\n",
       "      <td>2000</td>\n",
       "    </tr>\n",
       "  </tbody>\n",
       "</table>\n",
       "</div>"
      ],
      "text/plain": [
       "     Pt Name  Room No Date of joining  Med Bill  Room Bill\n",
       "12 -1.460915        1      28/03/2012      3000       2500\n",
       "4  -0.866645        6      26/03/2012      1000       2000\n",
       "28 -0.866645        6      30/03/2012      1000       2000\n",
       "5   1.510438        5      26/03/2012      2000       5000\n",
       "14  0.916167        2      28/03/2012      1000       2000"
      ]
     },
     "execution_count": 13,
     "metadata": {},
     "output_type": "execute_result"
    }
   ],
   "source": [
    "X_train.head()"
   ]
  },
  {
   "cell_type": "code",
   "execution_count": 14,
   "metadata": {},
   "outputs": [
    {
     "data": {
      "text/plain": [
       "LabelEncoder()"
      ]
     },
     "execution_count": 14,
     "metadata": {},
     "output_type": "execute_result"
    }
   ],
   "source": [
    "dateofjoining_encoder=preprocessing.LabelEncoder()\n",
    "dateofjoining_encoder.fit(pandas.DataFrame(X_train['Date of joining']))"
   ]
  },
  {
   "cell_type": "code",
   "execution_count": 15,
   "metadata": {},
   "outputs": [],
   "source": [
    "X_train[['Date of joining']]=dateofjoining_encoder.transform(X_train[['Date of joining']])"
   ]
  },
  {
   "cell_type": "code",
   "execution_count": 16,
   "metadata": {},
   "outputs": [
    {
     "data": {
      "text/plain": [
       "StandardScaler(copy=True, with_mean=True, with_std=True)"
      ]
     },
     "execution_count": 16,
     "metadata": {},
     "output_type": "execute_result"
    }
   ],
   "source": [
    "dateofjoining_scaler=StandardScaler()\n",
    "dateofjoining_scaler.fit(pandas.DataFrame(X_train['Date of joining']))"
   ]
  },
  {
   "cell_type": "code",
   "execution_count": 17,
   "metadata": {},
   "outputs": [],
   "source": [
    "X_train[['Date of joining']]=dateofjoining_scaler.transform(X_train[['Date of joining']])"
   ]
  },
  {
   "cell_type": "code",
   "execution_count": 18,
   "metadata": {},
   "outputs": [
    {
     "data": {
      "text/html": [
       "<div>\n",
       "<style scoped>\n",
       "    .dataframe tbody tr th:only-of-type {\n",
       "        vertical-align: middle;\n",
       "    }\n",
       "\n",
       "    .dataframe tbody tr th {\n",
       "        vertical-align: top;\n",
       "    }\n",
       "\n",
       "    .dataframe thead th {\n",
       "        text-align: right;\n",
       "    }\n",
       "</style>\n",
       "<table border=\"1\" class=\"dataframe\">\n",
       "  <thead>\n",
       "    <tr style=\"text-align: right;\">\n",
       "      <th></th>\n",
       "      <th>Pt Name</th>\n",
       "      <th>Room No</th>\n",
       "      <th>Date of joining</th>\n",
       "      <th>Med Bill</th>\n",
       "      <th>Room Bill</th>\n",
       "    </tr>\n",
       "  </thead>\n",
       "  <tbody>\n",
       "    <tr>\n",
       "      <th>12</th>\n",
       "      <td>-1.460915</td>\n",
       "      <td>1</td>\n",
       "      <td>0.00000</td>\n",
       "      <td>3000</td>\n",
       "      <td>2500</td>\n",
       "    </tr>\n",
       "    <tr>\n",
       "      <th>4</th>\n",
       "      <td>-0.866645</td>\n",
       "      <td>6</td>\n",
       "      <td>-1.44463</td>\n",
       "      <td>1000</td>\n",
       "      <td>2000</td>\n",
       "    </tr>\n",
       "    <tr>\n",
       "      <th>28</th>\n",
       "      <td>-0.866645</td>\n",
       "      <td>6</td>\n",
       "      <td>1.44463</td>\n",
       "      <td>1000</td>\n",
       "      <td>2000</td>\n",
       "    </tr>\n",
       "    <tr>\n",
       "      <th>5</th>\n",
       "      <td>1.510438</td>\n",
       "      <td>5</td>\n",
       "      <td>-1.44463</td>\n",
       "      <td>2000</td>\n",
       "      <td>5000</td>\n",
       "    </tr>\n",
       "    <tr>\n",
       "      <th>14</th>\n",
       "      <td>0.916167</td>\n",
       "      <td>2</td>\n",
       "      <td>0.00000</td>\n",
       "      <td>1000</td>\n",
       "      <td>2000</td>\n",
       "    </tr>\n",
       "  </tbody>\n",
       "</table>\n",
       "</div>"
      ],
      "text/plain": [
       "     Pt Name  Room No  Date of joining  Med Bill  Room Bill\n",
       "12 -1.460915        1          0.00000      3000       2500\n",
       "4  -0.866645        6         -1.44463      1000       2000\n",
       "28 -0.866645        6          1.44463      1000       2000\n",
       "5   1.510438        5         -1.44463      2000       5000\n",
       "14  0.916167        2          0.00000      1000       2000"
      ]
     },
     "execution_count": 18,
     "metadata": {},
     "output_type": "execute_result"
    }
   ],
   "source": [
    "X_train.head()"
   ]
  },
  {
   "cell_type": "code",
   "execution_count": 19,
   "metadata": {},
   "outputs": [
    {
     "data": {
      "text/plain": [
       "StandardScaler(copy=True, with_mean=True, with_std=True)"
      ]
     },
     "execution_count": 19,
     "metadata": {},
     "output_type": "execute_result"
    }
   ],
   "source": [
    "roomno_scaler=StandardScaler()\n",
    "roomno_scaler.fit(pandas.DataFrame(X_train['Room No']))"
   ]
  },
  {
   "cell_type": "code",
   "execution_count": 20,
   "metadata": {},
   "outputs": [],
   "source": [
    "X_train[['Room No']]=roomno_scaler.transform(X_train[['Room No']])"
   ]
  },
  {
   "cell_type": "code",
   "execution_count": 21,
   "metadata": {},
   "outputs": [
    {
     "data": {
      "text/plain": [
       "StandardScaler(copy=True, with_mean=True, with_std=True)"
      ]
     },
     "execution_count": 21,
     "metadata": {},
     "output_type": "execute_result"
    }
   ],
   "source": [
    "medbill_scaler=StandardScaler()\n",
    "medbill_scaler.fit(pandas.DataFrame(X_train['Med Bill']))"
   ]
  },
  {
   "cell_type": "code",
   "execution_count": 22,
   "metadata": {
    "scrolled": true
   },
   "outputs": [],
   "source": [
    "X_train[['Med Bill']]=medbill_scaler.transform(X_train[['Med Bill']])"
   ]
  },
  {
   "cell_type": "code",
   "execution_count": 23,
   "metadata": {},
   "outputs": [
    {
     "data": {
      "text/plain": [
       "StandardScaler(copy=True, with_mean=True, with_std=True)"
      ]
     },
     "execution_count": 23,
     "metadata": {},
     "output_type": "execute_result"
    }
   ],
   "source": [
    "roombill_scaler=StandardScaler()\n",
    "roombill_scaler.fit(pandas.DataFrame(X_train['Room Bill']))"
   ]
  },
  {
   "cell_type": "code",
   "execution_count": 24,
   "metadata": {},
   "outputs": [],
   "source": [
    "X_train[['Room Bill']]=roombill_scaler.transform(X_train[['Room Bill']])"
   ]
  },
  {
   "cell_type": "code",
   "execution_count": 25,
   "metadata": {},
   "outputs": [],
   "source": [
    "#Othersbill_scaler=StandardScaler()\n",
    "#Othersbill_scaler.fit(pandas.DataFrame(X_train['Others Bill']))"
   ]
  },
  {
   "cell_type": "code",
   "execution_count": 26,
   "metadata": {},
   "outputs": [],
   "source": [
    "#X_train[['Others Bill']]=Othersbill_scaler.transform(X_train[['Others Bill']])"
   ]
  },
  {
   "cell_type": "code",
   "execution_count": 27,
   "metadata": {},
   "outputs": [
    {
     "data": {
      "text/html": [
       "<div>\n",
       "<style scoped>\n",
       "    .dataframe tbody tr th:only-of-type {\n",
       "        vertical-align: middle;\n",
       "    }\n",
       "\n",
       "    .dataframe tbody tr th {\n",
       "        vertical-align: top;\n",
       "    }\n",
       "\n",
       "    .dataframe thead th {\n",
       "        text-align: right;\n",
       "    }\n",
       "</style>\n",
       "<table border=\"1\" class=\"dataframe\">\n",
       "  <thead>\n",
       "    <tr style=\"text-align: right;\">\n",
       "      <th></th>\n",
       "      <th>Pt Name</th>\n",
       "      <th>Room No</th>\n",
       "      <th>Date of joining</th>\n",
       "      <th>Med Bill</th>\n",
       "      <th>Room Bill</th>\n",
       "    </tr>\n",
       "  </thead>\n",
       "  <tbody>\n",
       "    <tr>\n",
       "      <th>12</th>\n",
       "      <td>-1.460915</td>\n",
       "      <td>-1.359541</td>\n",
       "      <td>0.00000</td>\n",
       "      <td>0.990814</td>\n",
       "      <td>-0.023577</td>\n",
       "    </tr>\n",
       "    <tr>\n",
       "      <th>4</th>\n",
       "      <td>-0.866645</td>\n",
       "      <td>1.453302</td>\n",
       "      <td>-1.44463</td>\n",
       "      <td>-1.041625</td>\n",
       "      <td>-0.589419</td>\n",
       "    </tr>\n",
       "    <tr>\n",
       "      <th>28</th>\n",
       "      <td>-0.866645</td>\n",
       "      <td>1.453302</td>\n",
       "      <td>1.44463</td>\n",
       "      <td>-1.041625</td>\n",
       "      <td>-0.589419</td>\n",
       "    </tr>\n",
       "    <tr>\n",
       "      <th>5</th>\n",
       "      <td>1.510438</td>\n",
       "      <td>0.890734</td>\n",
       "      <td>-1.44463</td>\n",
       "      <td>-0.025405</td>\n",
       "      <td>2.805636</td>\n",
       "    </tr>\n",
       "    <tr>\n",
       "      <th>14</th>\n",
       "      <td>0.916167</td>\n",
       "      <td>-0.796972</td>\n",
       "      <td>0.00000</td>\n",
       "      <td>-1.041625</td>\n",
       "      <td>-0.589419</td>\n",
       "    </tr>\n",
       "  </tbody>\n",
       "</table>\n",
       "</div>"
      ],
      "text/plain": [
       "     Pt Name   Room No  Date of joining  Med Bill  Room Bill\n",
       "12 -1.460915 -1.359541          0.00000  0.990814  -0.023577\n",
       "4  -0.866645  1.453302         -1.44463 -1.041625  -0.589419\n",
       "28 -0.866645  1.453302          1.44463 -1.041625  -0.589419\n",
       "5   1.510438  0.890734         -1.44463 -0.025405   2.805636\n",
       "14  0.916167 -0.796972          0.00000 -1.041625  -0.589419"
      ]
     },
     "execution_count": 27,
     "metadata": {},
     "output_type": "execute_result"
    }
   ],
   "source": [
    "X_train.head()"
   ]
  },
  {
   "cell_type": "code",
   "execution_count": 5,
   "metadata": {},
   "outputs": [
    {
     "data": {
      "text/plain": [
       "<matplotlib.collections.PathCollection at 0x201becf9358>"
      ]
     },
     "execution_count": 5,
     "metadata": {},
     "output_type": "execute_result"
    },
    {
     "data": {
      "image/png": "[encoded data removed]",
      "text/plain": [
       "<Figure size 432x288 with 1 Axes>"
      ]
     },
     "metadata": {
      "needs_background": "light"
     },
     "output_type": "display_data"
    }
   ],
   "source": [
    "mean=20\n",
    "sigma=5\n",
    "\n",
    "scatter_data_1=numpy.sort(numpy.random.normal(mean,sigma,50).astype(int))\n",
    "scatter_data_2=numpy.sort(numpy.random.normal(mean,sigma,50).astype(int))\n",
    "\n",
    "plt.scatter(scatter_data_1,scatter_data_2)"
   ]
  },
  {
   "cell_type": "code",
   "execution_count": 28,
   "metadata": {},
   "outputs": [
    {
     "data": {
      "text/html": [
       "<div>\n",
       "<style scoped>\n",
       "    .dataframe tbody tr th:only-of-type {\n",
       "        vertical-align: middle;\n",
       "    }\n",
       "\n",
       "    .dataframe tbody tr th {\n",
       "        vertical-align: top;\n",
       "    }\n",
       "\n",
       "    .dataframe thead th {\n",
       "        text-align: right;\n",
       "    }\n",
       "</style>\n",
       "<table border=\"1\" class=\"dataframe\">\n",
       "  <thead>\n",
       "    <tr style=\"text-align: right;\">\n",
       "      <th></th>\n",
       "      <th>Pt Name</th>\n",
       "      <th>Room No</th>\n",
       "      <th>Date of joining</th>\n",
       "      <th>Med Bill</th>\n",
       "      <th>Room Bill</th>\n",
       "    </tr>\n",
       "  </thead>\n",
       "  <tbody>\n",
       "    <tr>\n",
       "      <th>12</th>\n",
       "      <td>-1.460915</td>\n",
       "      <td>-1.359541</td>\n",
       "      <td>0.000000</td>\n",
       "      <td>0.990814</td>\n",
       "      <td>-0.023577</td>\n",
       "    </tr>\n",
       "    <tr>\n",
       "      <th>4</th>\n",
       "      <td>-0.866645</td>\n",
       "      <td>1.453302</td>\n",
       "      <td>-1.444630</td>\n",
       "      <td>-1.041625</td>\n",
       "      <td>-0.589419</td>\n",
       "    </tr>\n",
       "    <tr>\n",
       "      <th>28</th>\n",
       "      <td>-0.866645</td>\n",
       "      <td>1.453302</td>\n",
       "      <td>1.444630</td>\n",
       "      <td>-1.041625</td>\n",
       "      <td>-0.589419</td>\n",
       "    </tr>\n",
       "    <tr>\n",
       "      <th>5</th>\n",
       "      <td>1.510438</td>\n",
       "      <td>0.890734</td>\n",
       "      <td>-1.444630</td>\n",
       "      <td>-0.025405</td>\n",
       "      <td>2.805636</td>\n",
       "    </tr>\n",
       "    <tr>\n",
       "      <th>14</th>\n",
       "      <td>0.916167</td>\n",
       "      <td>-0.796972</td>\n",
       "      <td>0.000000</td>\n",
       "      <td>-1.041625</td>\n",
       "      <td>-0.589419</td>\n",
       "    </tr>\n",
       "    <tr>\n",
       "      <th>7</th>\n",
       "      <td>0.321897</td>\n",
       "      <td>-0.234404</td>\n",
       "      <td>-0.722315</td>\n",
       "      <td>0.482704</td>\n",
       "      <td>1.108108</td>\n",
       "    </tr>\n",
       "    <tr>\n",
       "      <th>20</th>\n",
       "      <td>0.916167</td>\n",
       "      <td>-0.796972</td>\n",
       "      <td>0.722315</td>\n",
       "      <td>-1.041625</td>\n",
       "      <td>-0.589419</td>\n",
       "    </tr>\n",
       "    <tr>\n",
       "      <th>1</th>\n",
       "      <td>0.321897</td>\n",
       "      <td>-0.234404</td>\n",
       "      <td>-1.444630</td>\n",
       "      <td>0.482704</td>\n",
       "      <td>1.108108</td>\n",
       "    </tr>\n",
       "    <tr>\n",
       "      <th>19</th>\n",
       "      <td>0.321897</td>\n",
       "      <td>-0.234404</td>\n",
       "      <td>0.722315</td>\n",
       "      <td>0.482704</td>\n",
       "      <td>1.108108</td>\n",
       "    </tr>\n",
       "    <tr>\n",
       "      <th>21</th>\n",
       "      <td>-0.272374</td>\n",
       "      <td>0.328165</td>\n",
       "      <td>0.722315</td>\n",
       "      <td>2.007034</td>\n",
       "      <td>0.542266</td>\n",
       "    </tr>\n",
       "    <tr>\n",
       "      <th>23</th>\n",
       "      <td>1.510438</td>\n",
       "      <td>0.890734</td>\n",
       "      <td>0.722315</td>\n",
       "      <td>0.025405</td>\n",
       "      <td>-1.721105</td>\n",
       "    </tr>\n",
       "    <tr>\n",
       "      <th>18</th>\n",
       "      <td>-1.460915</td>\n",
       "      <td>-1.359541</td>\n",
       "      <td>0.722315</td>\n",
       "      <td>0.990814</td>\n",
       "      <td>-0.023577</td>\n",
       "    </tr>\n",
       "    <tr>\n",
       "      <th>8</th>\n",
       "      <td>0.916167</td>\n",
       "      <td>-0.796972</td>\n",
       "      <td>-0.722315</td>\n",
       "      <td>-1.041625</td>\n",
       "      <td>-0.589419</td>\n",
       "    </tr>\n",
       "    <tr>\n",
       "      <th>22</th>\n",
       "      <td>-0.866645</td>\n",
       "      <td>1.453302</td>\n",
       "      <td>0.722315</td>\n",
       "      <td>-1.041625</td>\n",
       "      <td>-0.589419</td>\n",
       "    </tr>\n",
       "    <tr>\n",
       "      <th>16</th>\n",
       "      <td>-0.866645</td>\n",
       "      <td>1.453302</td>\n",
       "      <td>0.000000</td>\n",
       "      <td>-1.041625</td>\n",
       "      <td>-0.589419</td>\n",
       "    </tr>\n",
       "    <tr>\n",
       "      <th>10</th>\n",
       "      <td>-0.866645</td>\n",
       "      <td>1.453302</td>\n",
       "      <td>-0.722315</td>\n",
       "      <td>-1.041625</td>\n",
       "      <td>-0.589419</td>\n",
       "    </tr>\n",
       "    <tr>\n",
       "      <th>13</th>\n",
       "      <td>0.321897</td>\n",
       "      <td>-0.234404</td>\n",
       "      <td>0.000000</td>\n",
       "      <td>0.482704</td>\n",
       "      <td>1.108108</td>\n",
       "    </tr>\n",
       "    <tr>\n",
       "      <th>15</th>\n",
       "      <td>-0.272374</td>\n",
       "      <td>0.328165</td>\n",
       "      <td>0.000000</td>\n",
       "      <td>2.007034</td>\n",
       "      <td>0.542266</td>\n",
       "    </tr>\n",
       "    <tr>\n",
       "      <th>11</th>\n",
       "      <td>1.510438</td>\n",
       "      <td>0.890734</td>\n",
       "      <td>-0.722315</td>\n",
       "      <td>0.025405</td>\n",
       "      <td>-1.721105</td>\n",
       "    </tr>\n",
       "    <tr>\n",
       "      <th>26</th>\n",
       "      <td>0.916167</td>\n",
       "      <td>-0.796972</td>\n",
       "      <td>1.444630</td>\n",
       "      <td>-1.041625</td>\n",
       "      <td>-0.589419</td>\n",
       "    </tr>\n",
       "    <tr>\n",
       "      <th>0</th>\n",
       "      <td>-1.460915</td>\n",
       "      <td>-1.359541</td>\n",
       "      <td>-1.444630</td>\n",
       "      <td>0.990814</td>\n",
       "      <td>-0.023577</td>\n",
       "    </tr>\n",
       "    <tr>\n",
       "      <th>24</th>\n",
       "      <td>-1.460915</td>\n",
       "      <td>-1.359541</td>\n",
       "      <td>1.444630</td>\n",
       "      <td>0.990814</td>\n",
       "      <td>-0.023577</td>\n",
       "    </tr>\n",
       "    <tr>\n",
       "      <th>25</th>\n",
       "      <td>0.321897</td>\n",
       "      <td>-0.234404</td>\n",
       "      <td>1.444630</td>\n",
       "      <td>0.482704</td>\n",
       "      <td>1.108108</td>\n",
       "    </tr>\n",
       "    <tr>\n",
       "      <th>2</th>\n",
       "      <td>0.916167</td>\n",
       "      <td>-0.796972</td>\n",
       "      <td>-1.444630</td>\n",
       "      <td>-1.041625</td>\n",
       "      <td>-0.589419</td>\n",
       "    </tr>\n",
       "  </tbody>\n",
       "</table>\n",
       "</div>"
      ],
      "text/plain": [
       "     Pt Name   Room No  Date of joining  Med Bill  Room Bill\n",
       "12 -1.460915 -1.359541         0.000000  0.990814  -0.023577\n",
       "4  -0.866645  1.453302        -1.444630 -1.041625  -0.589419\n",
       "28 -0.866645  1.453302         1.444630 -1.041625  -0.589419\n",
       "5   1.510438  0.890734        -1.444630 -0.025405   2.805636\n",
       "14  0.916167 -0.796972         0.000000 -1.041625  -0.589419\n",
       "7   0.321897 -0.234404        -0.722315  0.482704   1.108108\n",
       "20  0.916167 -0.796972         0.722315 -1.041625  -0.589419\n",
       "1   0.321897 -0.234404        -1.444630  0.482704   1.108108\n",
       "19  0.321897 -0.234404         0.722315  0.482704   1.108108\n",
       "21 -0.272374  0.328165         0.722315  2.007034   0.542266\n",
       "23  1.510438  0.890734         0.722315  0.025405  -1.721105\n",
       "18 -1.460915 -1.359541         0.722315  0.990814  -0.023577\n",
       "8   0.916167 -0.796972        -0.722315 -1.041625  -0.589419\n",
       "22 -0.866645  1.453302         0.722315 -1.041625  -0.589419\n",
       "16 -0.866645  1.453302         0.000000 -1.041625  -0.589419\n",
       "10 -0.866645  1.453302        -0.722315 -1.041625  -0.589419\n",
       "13  0.321897 -0.234404         0.000000  0.482704   1.108108\n",
       "15 -0.272374  0.328165         0.000000  2.007034   0.542266\n",
       "11  1.510438  0.890734        -0.722315  0.025405  -1.721105\n",
       "26  0.916167 -0.796972         1.444630 -1.041625  -0.589419\n",
       "0  -1.460915 -1.359541        -1.444630  0.990814  -0.023577\n",
       "24 -1.460915 -1.359541         1.444630  0.990814  -0.023577\n",
       "25  0.321897 -0.234404         1.444630  0.482704   1.108108\n",
       "2   0.916167 -0.796972        -1.444630 -1.041625  -0.589419"
      ]
     },
     "execution_count": 28,
     "metadata": {},
     "output_type": "execute_result"
    }
   ],
   "source": [
    "X_train"
   ]
  },
  {
   "cell_type": "code",
   "execution_count": 29,
   "metadata": {},
   "outputs": [],
   "source": [
    "X_train_original=X_train\n",
    "X_train=X_train.values\n",
    "Y_train=Y_train.values"
   ]
  },
  {
   "cell_type": "code",
   "execution_count": 30,
   "metadata": {},
   "outputs": [],
   "source": [
    "logistic_regression=LogisticRegression()"
   ]
  },
  {
   "cell_type": "code",
   "execution_count": 31,
   "metadata": {},
   "outputs": [
    {
     "data": {
      "text/plain": [
       "LogisticRegression(C=1.0, class_weight=None, dual=False, fit_intercept=True,\n",
       "          intercept_scaling=1, max_iter=100, multi_class='warn',\n",
       "          n_jobs=None, penalty='l2', random_state=None, solver='warn',\n",
       "          tol=0.0001, verbose=0, warm_start=False)"
      ]
     },
     "execution_count": 31,
     "metadata": {},
     "output_type": "execute_result"
    }
   ],
   "source": [
    "logistic_regression.fit(X_train,Y_train)"
   ]
  },
  {
   "cell_type": "code",
   "execution_count": 32,
   "metadata": {},
   "outputs": [],
   "source": [
    "Y_pred=logistic_regression.predict(X_train)"
   ]
  },
  {
   "cell_type": "code",
   "execution_count": 33,
   "metadata": {},
   "outputs": [
    {
     "data": {
      "text/plain": [
       "array([2000, 3000, 3000, 3000, 5000, 2000, 5000, 2000, 2000, 2000, 2000,\n",
       "       2000, 5000, 3000, 3000, 3000, 2000, 2000, 2000, 5000, 2000, 2000,\n",
       "       1000, 5000], dtype=int64)"
      ]
     },
     "execution_count": 33,
     "metadata": {},
     "output_type": "execute_result"
    }
   ],
   "source": [
    "Y_pred"
   ]
  },
  {
   "cell_type": "code",
   "execution_count": null,
   "metadata": {},
   "outputs": [],
   "source": []
  },
  {
   "cell_type": "code",
   "execution_count": 34,
   "metadata": {},
   "outputs": [
    {
     "data": {
      "text/html": [
       "<div>\n",
       "<style scoped>\n",
       "    .dataframe tbody tr th:only-of-type {\n",
       "        vertical-align: middle;\n",
       "    }\n",
       "\n",
       "    .dataframe tbody tr th {\n",
       "        vertical-align: top;\n",
       "    }\n",
       "\n",
       "    .dataframe thead th {\n",
       "        text-align: right;\n",
       "    }\n",
       "</style>\n",
       "<table border=\"1\" class=\"dataframe\">\n",
       "  <thead>\n",
       "    <tr style=\"text-align: right;\">\n",
       "      <th></th>\n",
       "      <th>Pt Name</th>\n",
       "      <th>Room No</th>\n",
       "      <th>Date of joining</th>\n",
       "      <th>Med Bill</th>\n",
       "      <th>Room Bill</th>\n",
       "    </tr>\n",
       "  </thead>\n",
       "  <tbody>\n",
       "    <tr>\n",
       "      <th>17</th>\n",
       "      <td>swapna</td>\n",
       "      <td>5</td>\n",
       "      <td>28/03/2012</td>\n",
       "      <td>2000</td>\n",
       "      <td>5000</td>\n",
       "    </tr>\n",
       "    <tr>\n",
       "      <th>3</th>\n",
       "      <td>chamandi</td>\n",
       "      <td>4</td>\n",
       "      <td>26/03/2012</td>\n",
       "      <td>4000</td>\n",
       "      <td>3000</td>\n",
       "    </tr>\n",
       "    <tr>\n",
       "      <th>27</th>\n",
       "      <td>chamandi</td>\n",
       "      <td>4</td>\n",
       "      <td>30/03/2012</td>\n",
       "      <td>4000</td>\n",
       "      <td>3000</td>\n",
       "    </tr>\n",
       "    <tr>\n",
       "      <th>6</th>\n",
       "      <td>RangaSwamy</td>\n",
       "      <td>1</td>\n",
       "      <td>27/03/2012</td>\n",
       "      <td>3000</td>\n",
       "      <td>2500</td>\n",
       "    </tr>\n",
       "    <tr>\n",
       "      <th>9</th>\n",
       "      <td>chamandi</td>\n",
       "      <td>4</td>\n",
       "      <td>27/03/2012</td>\n",
       "      <td>4000</td>\n",
       "      <td>3000</td>\n",
       "    </tr>\n",
       "  </tbody>\n",
       "</table>\n",
       "</div>"
      ],
      "text/plain": [
       "       Pt Name  Room No Date of joining  Med Bill  Room Bill\n",
       "17      swapna        5      28/03/2012      2000       5000\n",
       "3     chamandi        4      26/03/2012      4000       3000\n",
       "27    chamandi        4      30/03/2012      4000       3000\n",
       "6   RangaSwamy        1      27/03/2012      3000       2500\n",
       "9     chamandi        4      27/03/2012      4000       3000"
      ]
     },
     "execution_count": 34,
     "metadata": {},
     "output_type": "execute_result"
    }
   ],
   "source": [
    "X_test.head()"
   ]
  },
  {
   "cell_type": "code",
   "execution_count": null,
   "metadata": {},
   "outputs": [],
   "source": []
  },
  {
   "cell_type": "code",
   "execution_count": 35,
   "metadata": {},
   "outputs": [
    {
     "data": {
      "text/plain": [
       "StandardScaler(copy=True, with_mean=True, with_std=True)"
      ]
     },
     "execution_count": 35,
     "metadata": {},
     "output_type": "execute_result"
    }
   ],
   "source": [
    "medbill_scaler=StandardScaler()\n",
    "medbill_scaler.fit(pandas.DataFrame(X_test['Med Bill']))"
   ]
  },
  {
   "cell_type": "code",
   "execution_count": 36,
   "metadata": {},
   "outputs": [],
   "source": [
    "\n",
    "X_test[['Med Bill']]=medbill_scaler.transform(X_test[['Med Bill']])"
   ]
  },
  {
   "cell_type": "code",
   "execution_count": 37,
   "metadata": {},
   "outputs": [
    {
     "data": {
      "text/plain": [
       "LabelEncoder()"
      ]
     },
     "execution_count": 37,
     "metadata": {},
     "output_type": "execute_result"
    }
   ],
   "source": [
    "dateofjoining_encoder=preprocessing.LabelEncoder()\n",
    "dateofjoining_encoder.fit(pandas.DataFrame(X_test['Date of joining']))"
   ]
  },
  {
   "cell_type": "code",
   "execution_count": 38,
   "metadata": {},
   "outputs": [],
   "source": [
    "X_test[['Date of joining']]=dateofjoining_encoder.transform(X_test[['Date of joining']])"
   ]
  },
  {
   "cell_type": "code",
   "execution_count": 39,
   "metadata": {},
   "outputs": [
    {
     "data": {
      "text/plain": [
       "StandardScaler(copy=True, with_mean=True, with_std=True)"
      ]
     },
     "execution_count": 39,
     "metadata": {},
     "output_type": "execute_result"
    }
   ],
   "source": [
    "dateofjoining_scaler=StandardScaler()\n",
    "dateofjoining_scaler.fit(pandas.DataFrame(X_test['Date of joining']))"
   ]
  },
  {
   "cell_type": "code",
   "execution_count": 40,
   "metadata": {},
   "outputs": [],
   "source": [
    "\n",
    "X_test[['Date of joining']]=dateofjoining_scaler.transform(X_test[['Date of joining']])"
   ]
  },
  {
   "cell_type": "code",
   "execution_count": 41,
   "metadata": {},
   "outputs": [
    {
     "data": {
      "text/html": [
       "<div>\n",
       "<style scoped>\n",
       "    .dataframe tbody tr th:only-of-type {\n",
       "        vertical-align: middle;\n",
       "    }\n",
       "\n",
       "    .dataframe tbody tr th {\n",
       "        vertical-align: top;\n",
       "    }\n",
       "\n",
       "    .dataframe thead th {\n",
       "        text-align: right;\n",
       "    }\n",
       "</style>\n",
       "<table border=\"1\" class=\"dataframe\">\n",
       "  <thead>\n",
       "    <tr style=\"text-align: right;\">\n",
       "      <th></th>\n",
       "      <th>Pt Name</th>\n",
       "      <th>Room No</th>\n",
       "      <th>Date of joining</th>\n",
       "      <th>Med Bill</th>\n",
       "      <th>Room Bill</th>\n",
       "    </tr>\n",
       "  </thead>\n",
       "  <tbody>\n",
       "    <tr>\n",
       "      <th>17</th>\n",
       "      <td>swapna</td>\n",
       "      <td>5</td>\n",
       "      <td>0.301511</td>\n",
       "      <td>-1.299867</td>\n",
       "      <td>5000</td>\n",
       "    </tr>\n",
       "    <tr>\n",
       "      <th>3</th>\n",
       "      <td>chamandi</td>\n",
       "      <td>4</td>\n",
       "      <td>-1.507557</td>\n",
       "      <td>0.928477</td>\n",
       "      <td>3000</td>\n",
       "    </tr>\n",
       "    <tr>\n",
       "      <th>27</th>\n",
       "      <td>chamandi</td>\n",
       "      <td>4</td>\n",
       "      <td>1.206045</td>\n",
       "      <td>0.928477</td>\n",
       "      <td>3000</td>\n",
       "    </tr>\n",
       "    <tr>\n",
       "      <th>6</th>\n",
       "      <td>RangaSwamy</td>\n",
       "      <td>1</td>\n",
       "      <td>-0.603023</td>\n",
       "      <td>-0.185695</td>\n",
       "      <td>2500</td>\n",
       "    </tr>\n",
       "    <tr>\n",
       "      <th>9</th>\n",
       "      <td>chamandi</td>\n",
       "      <td>4</td>\n",
       "      <td>-0.603023</td>\n",
       "      <td>0.928477</td>\n",
       "      <td>3000</td>\n",
       "    </tr>\n",
       "    <tr>\n",
       "      <th>29</th>\n",
       "      <td>swapna</td>\n",
       "      <td>5</td>\n",
       "      <td>1.206045</td>\n",
       "      <td>-1.299867</td>\n",
       "      <td>5000</td>\n",
       "    </tr>\n",
       "  </tbody>\n",
       "</table>\n",
       "</div>"
      ],
      "text/plain": [
       "       Pt Name  Room No  Date of joining  Med Bill  Room Bill\n",
       "17      swapna        5         0.301511 -1.299867       5000\n",
       "3     chamandi        4        -1.507557  0.928477       3000\n",
       "27    chamandi        4         1.206045  0.928477       3000\n",
       "6   RangaSwamy        1        -0.603023 -0.185695       2500\n",
       "9     chamandi        4        -0.603023  0.928477       3000\n",
       "29      swapna        5         1.206045 -1.299867       5000"
      ]
     },
     "execution_count": 41,
     "metadata": {},
     "output_type": "execute_result"
    }
   ],
   "source": [
    "X_test"
   ]
  },
  {
   "cell_type": "code",
   "execution_count": 42,
   "metadata": {},
   "outputs": [
    {
     "data": {
      "text/plain": [
       "StandardScaler(copy=True, with_mean=True, with_std=True)"
      ]
     },
     "execution_count": 42,
     "metadata": {},
     "output_type": "execute_result"
    }
   ],
   "source": [
    "roombill_scaler=StandardScaler()\n",
    "roombill_scaler.fit(pandas.DataFrame(X_test['Room Bill']))"
   ]
  },
  {
   "cell_type": "code",
   "execution_count": 43,
   "metadata": {},
   "outputs": [],
   "source": [
    "X_test[['Room Bill']]=roombill_scaler.transform(X_test[['Room Bill']])"
   ]
  },
  {
   "cell_type": "code",
   "execution_count": 44,
   "metadata": {},
   "outputs": [
    {
     "data": {
      "text/html": [
       "<div>\n",
       "<style scoped>\n",
       "    .dataframe tbody tr th:only-of-type {\n",
       "        vertical-align: middle;\n",
       "    }\n",
       "\n",
       "    .dataframe tbody tr th {\n",
       "        vertical-align: top;\n",
       "    }\n",
       "\n",
       "    .dataframe thead th {\n",
       "        text-align: right;\n",
       "    }\n",
       "</style>\n",
       "<table border=\"1\" class=\"dataframe\">\n",
       "  <thead>\n",
       "    <tr style=\"text-align: right;\">\n",
       "      <th></th>\n",
       "      <th>Pt Name</th>\n",
       "      <th>Room No</th>\n",
       "      <th>Date of joining</th>\n",
       "      <th>Med Bill</th>\n",
       "      <th>Room Bill</th>\n",
       "    </tr>\n",
       "  </thead>\n",
       "  <tbody>\n",
       "    <tr>\n",
       "      <th>17</th>\n",
       "      <td>swapna</td>\n",
       "      <td>5</td>\n",
       "      <td>0.301511</td>\n",
       "      <td>-1.299867</td>\n",
       "      <td>1.392694</td>\n",
       "    </tr>\n",
       "    <tr>\n",
       "      <th>3</th>\n",
       "      <td>chamandi</td>\n",
       "      <td>4</td>\n",
       "      <td>-1.507557</td>\n",
       "      <td>0.928477</td>\n",
       "      <td>-0.573462</td>\n",
       "    </tr>\n",
       "    <tr>\n",
       "      <th>27</th>\n",
       "      <td>chamandi</td>\n",
       "      <td>4</td>\n",
       "      <td>1.206045</td>\n",
       "      <td>0.928477</td>\n",
       "      <td>-0.573462</td>\n",
       "    </tr>\n",
       "    <tr>\n",
       "      <th>6</th>\n",
       "      <td>RangaSwamy</td>\n",
       "      <td>1</td>\n",
       "      <td>-0.603023</td>\n",
       "      <td>-0.185695</td>\n",
       "      <td>-1.065001</td>\n",
       "    </tr>\n",
       "    <tr>\n",
       "      <th>9</th>\n",
       "      <td>chamandi</td>\n",
       "      <td>4</td>\n",
       "      <td>-0.603023</td>\n",
       "      <td>0.928477</td>\n",
       "      <td>-0.573462</td>\n",
       "    </tr>\n",
       "  </tbody>\n",
       "</table>\n",
       "</div>"
      ],
      "text/plain": [
       "       Pt Name  Room No  Date of joining  Med Bill  Room Bill\n",
       "17      swapna        5         0.301511 -1.299867   1.392694\n",
       "3     chamandi        4        -1.507557  0.928477  -0.573462\n",
       "27    chamandi        4         1.206045  0.928477  -0.573462\n",
       "6   RangaSwamy        1        -0.603023 -0.185695  -1.065001\n",
       "9     chamandi        4        -0.603023  0.928477  -0.573462"
      ]
     },
     "execution_count": 44,
     "metadata": {},
     "output_type": "execute_result"
    }
   ],
   "source": [
    "X_test.head()"
   ]
  },
  {
   "cell_type": "code",
   "execution_count": 45,
   "metadata": {},
   "outputs": [],
   "source": [
    "#othersbill_scaler=StandardScaler()\n",
    "#othersbill_scaler.fit(pandas.DataFrame(X_test['Others Bill']))"
   ]
  },
  {
   "cell_type": "code",
   "execution_count": 46,
   "metadata": {},
   "outputs": [],
   "source": [
    "#X_test[['Others Bill']]=othersbill_scaler.transform(X_test[['Others Bill']])"
   ]
  },
  {
   "cell_type": "code",
   "execution_count": 47,
   "metadata": {},
   "outputs": [
    {
     "data": {
      "text/html": [
       "<div>\n",
       "<style scoped>\n",
       "    .dataframe tbody tr th:only-of-type {\n",
       "        vertical-align: middle;\n",
       "    }\n",
       "\n",
       "    .dataframe tbody tr th {\n",
       "        vertical-align: top;\n",
       "    }\n",
       "\n",
       "    .dataframe thead th {\n",
       "        text-align: right;\n",
       "    }\n",
       "</style>\n",
       "<table border=\"1\" class=\"dataframe\">\n",
       "  <thead>\n",
       "    <tr style=\"text-align: right;\">\n",
       "      <th></th>\n",
       "      <th>Pt Name</th>\n",
       "      <th>Room No</th>\n",
       "      <th>Date of joining</th>\n",
       "      <th>Med Bill</th>\n",
       "      <th>Room Bill</th>\n",
       "    </tr>\n",
       "  </thead>\n",
       "  <tbody>\n",
       "    <tr>\n",
       "      <th>17</th>\n",
       "      <td>swapna</td>\n",
       "      <td>5</td>\n",
       "      <td>0.301511</td>\n",
       "      <td>-1.299867</td>\n",
       "      <td>1.392694</td>\n",
       "    </tr>\n",
       "    <tr>\n",
       "      <th>3</th>\n",
       "      <td>chamandi</td>\n",
       "      <td>4</td>\n",
       "      <td>-1.507557</td>\n",
       "      <td>0.928477</td>\n",
       "      <td>-0.573462</td>\n",
       "    </tr>\n",
       "    <tr>\n",
       "      <th>27</th>\n",
       "      <td>chamandi</td>\n",
       "      <td>4</td>\n",
       "      <td>1.206045</td>\n",
       "      <td>0.928477</td>\n",
       "      <td>-0.573462</td>\n",
       "    </tr>\n",
       "    <tr>\n",
       "      <th>6</th>\n",
       "      <td>RangaSwamy</td>\n",
       "      <td>1</td>\n",
       "      <td>-0.603023</td>\n",
       "      <td>-0.185695</td>\n",
       "      <td>-1.065001</td>\n",
       "    </tr>\n",
       "    <tr>\n",
       "      <th>9</th>\n",
       "      <td>chamandi</td>\n",
       "      <td>4</td>\n",
       "      <td>-0.603023</td>\n",
       "      <td>0.928477</td>\n",
       "      <td>-0.573462</td>\n",
       "    </tr>\n",
       "  </tbody>\n",
       "</table>\n",
       "</div>"
      ],
      "text/plain": [
       "       Pt Name  Room No  Date of joining  Med Bill  Room Bill\n",
       "17      swapna        5         0.301511 -1.299867   1.392694\n",
       "3     chamandi        4        -1.507557  0.928477  -0.573462\n",
       "27    chamandi        4         1.206045  0.928477  -0.573462\n",
       "6   RangaSwamy        1        -0.603023 -0.185695  -1.065001\n",
       "9     chamandi        4        -0.603023  0.928477  -0.573462"
      ]
     },
     "execution_count": 47,
     "metadata": {},
     "output_type": "execute_result"
    }
   ],
   "source": [
    "X_test.head()"
   ]
  },
  {
   "cell_type": "code",
   "execution_count": 48,
   "metadata": {},
   "outputs": [
    {
     "data": {
      "text/plain": [
       "LabelEncoder()"
      ]
     },
     "execution_count": 48,
     "metadata": {},
     "output_type": "execute_result"
    }
   ],
   "source": [
    "Name_encoder=preprocessing.LabelEncoder()\n",
    "Name_encoder.fit(pandas.DataFrame(X_test['Pt Name']))"
   ]
  },
  {
   "cell_type": "code",
   "execution_count": 49,
   "metadata": {},
   "outputs": [],
   "source": [
    "X_test[['Pt Name']]=Name_encoder.transform(X_test[['Pt Name']])"
   ]
  },
  {
   "cell_type": "code",
   "execution_count": 50,
   "metadata": {},
   "outputs": [
    {
     "data": {
      "text/plain": [
       "StandardScaler(copy=True, with_mean=True, with_std=True)"
      ]
     },
     "execution_count": 50,
     "metadata": {},
     "output_type": "execute_result"
    }
   ],
   "source": [
    "Name_scaler=StandardScaler()\n",
    "Name_scaler.fit(pandas.DataFrame(X_test['Pt Name']))"
   ]
  },
  {
   "cell_type": "code",
   "execution_count": 51,
   "metadata": {},
   "outputs": [],
   "source": [
    "X_test[['Pt Name']]=Name_scaler.transform(X_test[['Pt Name']])"
   ]
  },
  {
   "cell_type": "code",
   "execution_count": 52,
   "metadata": {},
   "outputs": [
    {
     "data": {
      "text/plain": [
       "StandardScaler(copy=True, with_mean=True, with_std=True)"
      ]
     },
     "execution_count": 52,
     "metadata": {},
     "output_type": "execute_result"
    }
   ],
   "source": [
    "roomno_scaler=StandardScaler()\n",
    "roomno_scaler.fit(pandas.DataFrame(X_test['Room No']))"
   ]
  },
  {
   "cell_type": "code",
   "execution_count": 53,
   "metadata": {},
   "outputs": [],
   "source": [
    "X_test[['Room No']]=roomno_scaler.transform(X_test[['Room No']])"
   ]
  },
  {
   "cell_type": "code",
   "execution_count": 54,
   "metadata": {},
   "outputs": [
    {
     "data": {
      "text/html": [
       "<div>\n",
       "<style scoped>\n",
       "    .dataframe tbody tr th:only-of-type {\n",
       "        vertical-align: middle;\n",
       "    }\n",
       "\n",
       "    .dataframe tbody tr th {\n",
       "        vertical-align: top;\n",
       "    }\n",
       "\n",
       "    .dataframe thead th {\n",
       "        text-align: right;\n",
       "    }\n",
       "</style>\n",
       "<table border=\"1\" class=\"dataframe\">\n",
       "  <thead>\n",
       "    <tr style=\"text-align: right;\">\n",
       "      <th></th>\n",
       "      <th>Pt Name</th>\n",
       "      <th>Room No</th>\n",
       "      <th>Date of joining</th>\n",
       "      <th>Med Bill</th>\n",
       "      <th>Room Bill</th>\n",
       "    </tr>\n",
       "  </thead>\n",
       "  <tbody>\n",
       "    <tr>\n",
       "      <th>17</th>\n",
       "      <td>1.212678</td>\n",
       "      <td>0.868243</td>\n",
       "      <td>0.301511</td>\n",
       "      <td>-1.299867</td>\n",
       "      <td>1.392694</td>\n",
       "    </tr>\n",
       "    <tr>\n",
       "      <th>3</th>\n",
       "      <td>-0.242536</td>\n",
       "      <td>0.124035</td>\n",
       "      <td>-1.507557</td>\n",
       "      <td>0.928477</td>\n",
       "      <td>-0.573462</td>\n",
       "    </tr>\n",
       "    <tr>\n",
       "      <th>27</th>\n",
       "      <td>-0.242536</td>\n",
       "      <td>0.124035</td>\n",
       "      <td>1.206045</td>\n",
       "      <td>0.928477</td>\n",
       "      <td>-0.573462</td>\n",
       "    </tr>\n",
       "    <tr>\n",
       "      <th>6</th>\n",
       "      <td>-1.697749</td>\n",
       "      <td>-2.108590</td>\n",
       "      <td>-0.603023</td>\n",
       "      <td>-0.185695</td>\n",
       "      <td>-1.065001</td>\n",
       "    </tr>\n",
       "    <tr>\n",
       "      <th>9</th>\n",
       "      <td>-0.242536</td>\n",
       "      <td>0.124035</td>\n",
       "      <td>-0.603023</td>\n",
       "      <td>0.928477</td>\n",
       "      <td>-0.573462</td>\n",
       "    </tr>\n",
       "    <tr>\n",
       "      <th>29</th>\n",
       "      <td>1.212678</td>\n",
       "      <td>0.868243</td>\n",
       "      <td>1.206045</td>\n",
       "      <td>-1.299867</td>\n",
       "      <td>1.392694</td>\n",
       "    </tr>\n",
       "  </tbody>\n",
       "</table>\n",
       "</div>"
      ],
      "text/plain": [
       "     Pt Name   Room No  Date of joining  Med Bill  Room Bill\n",
       "17  1.212678  0.868243         0.301511 -1.299867   1.392694\n",
       "3  -0.242536  0.124035        -1.507557  0.928477  -0.573462\n",
       "27 -0.242536  0.124035         1.206045  0.928477  -0.573462\n",
       "6  -1.697749 -2.108590        -0.603023 -0.185695  -1.065001\n",
       "9  -0.242536  0.124035        -0.603023  0.928477  -0.573462\n",
       "29  1.212678  0.868243         1.206045 -1.299867   1.392694"
      ]
     },
     "execution_count": 54,
     "metadata": {},
     "output_type": "execute_result"
    }
   ],
   "source": [
    "X_test"
   ]
  },
  {
   "cell_type": "code",
   "execution_count": 55,
   "metadata": {},
   "outputs": [],
   "source": [
    "logistic_regression=LogisticRegression()"
   ]
  },
  {
   "cell_type": "code",
   "execution_count": 56,
   "metadata": {},
   "outputs": [
    {
     "data": {
      "text/plain": [
       "LogisticRegression(C=1.0, class_weight=None, dual=False, fit_intercept=True,\n",
       "          intercept_scaling=1, max_iter=100, multi_class='warn',\n",
       "          n_jobs=None, penalty='l2', random_state=None, solver='warn',\n",
       "          tol=0.0001, verbose=0, warm_start=False)"
      ]
     },
     "execution_count": 56,
     "metadata": {},
     "output_type": "execute_result"
    }
   ],
   "source": [
    "logistic_regression.fit(X_test,Y_test)"
   ]
  },
  {
   "cell_type": "code",
   "execution_count": 57,
   "metadata": {},
   "outputs": [],
   "source": [
    "Y_pred=logistic_regression.predict(X_test)"
   ]
  },
  {
   "cell_type": "code",
   "execution_count": 58,
   "metadata": {},
   "outputs": [
    {
     "data": {
      "text/plain": [
       "array([3000, 7000, 7000, 1000, 7000, 3000], dtype=int64)"
      ]
     },
     "execution_count": 58,
     "metadata": {},
     "output_type": "execute_result"
    }
   ],
   "source": [
    "Y_pred"
   ]
  },
  {
   "cell_type": "code",
   "execution_count": 59,
   "metadata": {},
   "outputs": [
    {
     "name": "stdout",
     "output_type": "stream",
     "text": [
      "0.8333333333333334\n"
     ]
    }
   ],
   "source": [
    "print(accuracy_score(Y_test,Y_pred))"
   ]
  },
  {
   "cell_type": "code",
   "execution_count": 70,
   "metadata": {},
   "outputs": [],
   "source": [
    "decision_tree=tree.DecisionTreeClassifier()"
   ]
  },
  {
   "cell_type": "code",
   "execution_count": 71,
   "metadata": {},
   "outputs": [
    {
     "data": {
      "text/plain": [
       "DecisionTreeClassifier(class_weight=None, criterion='gini', max_depth=None,\n",
       "            max_features=None, max_leaf_nodes=None,\n",
       "            min_impurity_decrease=0.0, min_impurity_split=None,\n",
       "            min_samples_leaf=1, min_samples_split=2,\n",
       "            min_weight_fraction_leaf=0.0, presort=False, random_state=None,\n",
       "            splitter='best')"
      ]
     },
     "execution_count": 71,
     "metadata": {},
     "output_type": "execute_result"
    }
   ],
   "source": [
    "decision_tree.fit(X_train,Y_train)"
   ]
  },
  {
   "cell_type": "raw",
   "metadata": {},
   "source": []
  },
  {
   "cell_type": "code",
   "execution_count": 74,
   "metadata": {},
   "outputs": [],
   "source": [
    "Y_pred=decision_tree.predict(X_test)\n",
    "Y_pred_prob=decision_tree.predict_proba(X_test)"
   ]
  },
  {
   "cell_type": "code",
   "execution_count": 75,
   "metadata": {},
   "outputs": [
    {
     "name": "stdout",
     "output_type": "stream",
     "text": [
      "0.3333333333333333\n"
     ]
    }
   ],
   "source": [
    "print(accuracy_score(Y_test,Y_pred))"
   ]
  },
  {
   "cell_type": "code",
   "execution_count": 76,
   "metadata": {},
   "outputs": [
    {
     "data": {
      "text/plain": [
       "RandomForestClassifier(bootstrap=True, class_weight=None, criterion='gini',\n",
       "            max_depth=None, max_features='auto', max_leaf_nodes=None,\n",
       "            min_impurity_decrease=0.0, min_impurity_split=None,\n",
       "            min_samples_leaf=1, min_samples_split=2,\n",
       "            min_weight_fraction_leaf=0.0, n_estimators=10, n_jobs=None,\n",
       "            oob_score=False, random_state=None, verbose=0,\n",
       "            warm_start=False)"
      ]
     },
     "execution_count": 76,
     "metadata": {},
     "output_type": "execute_result"
    }
   ],
   "source": [
    "random_forest=RandomForestClassifier()\n",
    "random_forest.fit(X_train,Y_train)"
   ]
  },
  {
   "cell_type": "code",
   "execution_count": 77,
   "metadata": {},
   "outputs": [
    {
     "name": "stdout",
     "output_type": "stream",
     "text": [
      "0.16666666666666666\n"
     ]
    }
   ],
   "source": [
    "Y_pred=random_forest.predict(X_test)\n",
    "Y_pred_prob=random_forest.predict_proba(X_test)\n",
    "print(accuracy_score(Y_test,Y_pred))"
   ]
  },
  {
   "cell_type": "code",
   "execution_count": 78,
   "metadata": {},
   "outputs": [
    {
     "name": "stdout",
     "output_type": "stream",
     "text": [
      "0.16666666666666666\n"
     ]
    }
   ],
   "source": [
    "print(accuracy_score(Y_test,Y_pred))"
   ]
  },
  {
   "cell_type": "code",
   "execution_count": 79,
   "metadata": {},
   "outputs": [
    {
     "data": {
      "text/plain": [
       "GaussianNB(priors=None, var_smoothing=1e-09)"
      ]
     },
     "execution_count": 79,
     "metadata": {},
     "output_type": "execute_result"
    }
   ],
   "source": [
    "naive_bayes=GaussianNB()\n",
    "naive_bayes.fit(X_train,Y_train)"
   ]
  },
  {
   "cell_type": "code",
   "execution_count": 80,
   "metadata": {},
   "outputs": [],
   "source": [
    "Y_pred=naive_bayes.predict(X_test)\n",
    "Y_pred_prob=naive_bayes.predict_proba(X_test)"
   ]
  },
  {
   "cell_type": "code",
   "execution_count": 81,
   "metadata": {},
   "outputs": [
    {
     "name": "stdout",
     "output_type": "stream",
     "text": [
      "0.3333333333333333\n"
     ]
    }
   ],
   "source": [
    "print(accuracy_score(Y_test,Y_pred))"
   ]
  },
  {
   "cell_type": "code",
   "execution_count": null,
   "metadata": {},
   "outputs": [],
   "source": []
  },
  {
   "cell_type": "code",
   "execution_count": null,
   "metadata": {},
   "outputs": [],
   "source": []
  }
 ],
 "metadata": {
  "kernelspec": {
   "display_name": "Python 3",
   "language": "python",
   "name": "python3"
  },
  "language_info": {
   "codemirror_mode": {
    "name": "ipython",
    "version": 3
   },
   "file_extension": ".py",
   "mimetype": "text/x-python",
   "name": "python",
   "nbconvert_exporter": "python",
   "pygments_lexer": "ipython3",
   "version": "3.7.3"
  }
 },
 "nbformat": 4,
 "nbformat_minor": 2
}
